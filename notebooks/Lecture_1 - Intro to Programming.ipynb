{
 "cells": [
  {
   "cell_type": "markdown",
   "metadata": {},
   "source": [
    "# Lecture 1: Introduction to Programming"
   ]
  },
  {
   "cell_type": "markdown",
   "metadata": {},
   "source": [
    "## Agenda for the Class:\n",
    "1. Python in-built datatypes\n",
    "2. Basic mathematical operators and Precedence order\n",
    "3. Python Interpreter vs Python for Scripting"
   ]
  },
  {
   "cell_type": "markdown",
   "metadata": {},
   "source": [
    "Firstly we'll focus on the **datatypes**.\n",
    "1. **Numeric**\n",
    "2. **Strings**\n",
    "3. **Lists**"
   ]
  },
  {
   "cell_type": "markdown",
   "metadata": {},
   "source": [
    "General format for **Assigning** a variable a value:\n",
    "Variable_name = Variable_Value\n",
    "\n",
    "1. We **Do not** mention datatype while assigning a variable a value in Python. (i.e. Dynamically Typed)\n",
    "2. **=** is used to assign a variable a value. ( L Value and R value)\n",
    "3. A variable name must follow certain naming conventions. Example: '23', 'len' can **not** be variable names.\n",
    "4. There is no such thing as \"variable declaration\" or \"variable initialization\" in Python. It's only variable assignment"
   ]
  },
  {
   "cell_type": "markdown",
   "metadata": {},
   "source": [
    "## Numeric data"
   ]
  },
  {
   "cell_type": "code",
   "execution_count": null,
   "metadata": {
    "collapsed": true
   },
   "outputs": [],
   "source": [
    "a=1\n",
    "b=3.14\n",
    "# Assigning value 1 to variable a and 3.14 to variable b"
   ]
  },
  {
   "cell_type": "markdown",
   "metadata": {},
   "source": [
    "Mathematical Operations on Variables:\n",
    "1. Add ('+')\n",
    "2. Multiple ('*')\n",
    "3. Subtract ('-')\n",
    "4. Divide ('/')\n",
    "5. Modulo ('%')\n",
    "6. Exponentiation (\\*\\*)\n",
    "\n",
    "### **Order of Precedence**\n",
    "\n",
    "Exponent > (Multiple, Divide, Modulo) > (Add, Subtract)"
   ]
  },
  {
   "cell_type": "code",
   "execution_count": null,
   "metadata": {
    "collapsed": true
   },
   "outputs": [],
   "source": [
    "a = 20\n",
    "b = 10\n",
    "c = 15\n",
    "d = 5\n",
    "e = 0"
   ]
  },
  {
   "cell_type": "code",
   "execution_count": null,
   "metadata": {},
   "outputs": [],
   "source": [
    "e = (a + b) * c / d       #( 30 * 15 ) / 5\n",
    "print (\"Value of (a + b) * c / d is \",  e)"
   ]
  },
  {
   "cell_type": "code",
   "execution_count": null,
   "metadata": {},
   "outputs": [],
   "source": [
    "e = ((a + b) * c) / d     # (30 * 15 ) / 5\n",
    "print (\"Value of ((a + b) * c) / d is \",  e)"
   ]
  },
  {
   "cell_type": "code",
   "execution_count": null,
   "metadata": {},
   "outputs": [],
   "source": [
    "e = (a + b) * (c / d);    # (30) * (15/5)\n",
    "print (\"Value of (a + b) * (c / d) is \",  e)"
   ]
  },
  {
   "cell_type": "code",
   "execution_count": null,
   "metadata": {},
   "outputs": [],
   "source": [
    "e = a + (b * c) / d;      #  20 + (150/5)\n",
    "print (\"Value of a + (b * c) / d is \",  e)"
   ]
  },
  {
   "cell_type": "markdown",
   "metadata": {},
   "source": [
    "#### In case you are using Python 2 and want floating point division (e.g: 4/3 --> 1.33333333333 and not 4/3 --> 1) : \n",
    "     \n",
    "     For Python shell type in : from __future__ import print_function, division\n",
    "     For a \".py\" file : Use that import statement in the beginning of your Python file."
   ]
  },
  {
   "cell_type": "markdown",
   "metadata": {},
   "source": [
    "## Strings\n",
    "1. **Immutable** datatype\n",
    "2. String enclosed within **\" String\"** or **'String'**"
   ]
  },
  {
   "cell_type": "code",
   "execution_count": null,
   "metadata": {},
   "outputs": [],
   "source": [
    "course_name = \"Introduction to Programming\"\n",
    "question = \"Having a good time ? ;)\"\n",
    "print(course_name)\n",
    "print(question)"
   ]
  },
  {
   "cell_type": "markdown",
   "metadata": {},
   "source": [
    "### Operations on Strings\n",
    "1. Since strings are immutable, we can't change the value stored in a string\n",
    "2. We can concatenate ('join') multiple strings.\n",
    "3. Slice/substring operations"
   ]
  },
  {
   "cell_type": "code",
   "execution_count": null,
   "metadata": {},
   "outputs": [],
   "source": [
    "string_1 = \"Hello World!\"\n",
    "n = len(string_1)  # \"len\" gives us the number of characters in the string\n",
    "print(string_1 + \" has\", n , \"characters\")"
   ]
  },
  {
   "cell_type": "markdown",
   "metadata": {},
   "source": [
    "1. **Indexing** : Every charcater of the string can be accessed by it's position in the string.\n",
    "2. Indexing starts from zero.\n",
    "3. Syntax\n",
    "    string_name[index_number]\n",
    "    \n",
    "Example:    "
   ]
  },
  {
   "cell_type": "code",
   "execution_count": null,
   "metadata": {},
   "outputs": [],
   "source": [
    "print(string_1[0])\n",
    "print(string_1[1])"
   ]
  },
  {
   "cell_type": "code",
   "execution_count": null,
   "metadata": {},
   "outputs": [],
   "source": [
    "print(string_1[-2])"
   ]
  },
  {
   "cell_type": "markdown",
   "metadata": {},
   "source": [
    "Negative Indexing:\n",
    "string[-1] gives us the last character\n",
    "string[-2] gives us the second last character\n",
    "and so on...\n"
   ]
  },
  {
   "cell_type": "markdown",
   "metadata": {},
   "source": [
    "#### Slicing operations\n",
    "Syntax:\n",
    "\n",
    "string_name[start_index,end_index]"
   ]
  },
  {
   "cell_type": "code",
   "execution_count": null,
   "metadata": {},
   "outputs": [],
   "source": [
    "print(string_1[0:2])\n",
    "print(string_1[5 : len(string_1)])"
   ]
  },
  {
   "cell_type": "code",
   "execution_count": null,
   "metadata": {},
   "outputs": [],
   "source": [
    "print(string_1[0:4]+string_1[4:len(string_1)])"
   ]
  },
  {
   "cell_type": "markdown",
   "metadata": {},
   "source": [
    "## Lists\n",
    "1. Initializing syntax: \\n\n",
    "    list_name = [value_1,value_2,...,value_n]\n",
    "2. Behaviour Similar to strings\n",
    "3. Mutable\n",
    "4. Can contain multiple data types."
   ]
  },
  {
   "cell_type": "code",
   "execution_count": null,
   "metadata": {},
   "outputs": [],
   "source": [
    "primes = [2,3,5,8,11]\n",
    "print(primes)\n",
    "print(primes[0])\n",
    "print(len(primes))\n"
   ]
  },
  {
   "cell_type": "code",
   "execution_count": null,
   "metadata": {},
   "outputs": [],
   "source": [
    "classroom = ['L','T', 1]\n",
    "print(classroom)\n",
    "print((classroom[2]+ 4))"
   ]
  },
  {
   "cell_type": "markdown",
   "metadata": {},
   "source": [
    "### What to do next?\n",
    "1.Play around in the python interpreter to explore various functionalities\n",
    "2.Understand the rules to name variables."
   ]
  }
 ],
 "metadata": {
  "kernelspec": {
   "display_name": "Python 3",
   "language": "python",
   "name": "python3"
  },
  "language_info": {
   "codemirror_mode": {
    "name": "ipython",
    "version": 3
   },
   "file_extension": ".py",
   "mimetype": "text/x-python",
   "name": "python",
   "nbconvert_exporter": "python",
   "pygments_lexer": "ipython3",
   "version": "3.5.2"
  }
 },
 "nbformat": 4,
 "nbformat_minor": 2
}
